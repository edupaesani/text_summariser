{
  "nbformat": 4,
  "nbformat_minor": 0,
  "metadata": {
    "colab": {
      "name": "text_summarizer_student.ipynb",
      "provenance": [],
      "collapsed_sections": [],
      "include_colab_link": true
    },
    "kernelspec": {
      "name": "python3",
      "display_name": "Python 3"
    },
    "language_info": {
      "name": "python"
    }
  },
  "cells": [
    {
      "cell_type": "markdown",
      "metadata": {
        "id": "view-in-github",
        "colab_type": "text"
      },
      "source": [
        "<a href=\"https://colab.research.google.com/github/edupaesani/text_summariser/blob/main/text_summarizer_student.ipynb\" target=\"_parent\"><img src=\"https://colab.research.google.com/assets/colab-badge.svg\" alt=\"Open In Colab\"/></a>"
      ]
    },
    {
      "cell_type": "markdown",
      "source": [
        "# Text Summarisation\n",
        "\n",
        "We will write a notebook to convert a PDF or Word document to text or Web pages to text. The strategy is to convert everything to text and then summarise the text.\n",
        "\n",
        "\n",
        "# Task 0 - Initialise a NEW repository\n",
        "\n",
        "We are going to deploy this notebook using Binder.\n",
        "\n",
        "* Initialise a new PUBLIC GitHub repository, say called, text_summariser.\n",
        "* Import this notebook into the new repository\n",
        "\n"
      ],
      "metadata": {
        "id": "SmVEXRTA1wZn"
      }
    },
    {
      "cell_type": "markdown",
      "source": [
        "#Summarizing text\n",
        "1. Installing Hugging Face Transformers\n",
        "2. Building a summarization pipeline\n",
        "3. Running an encoding decoding model for summarization"
      ],
      "metadata": {
        "id": "FHtmW79E_jJS"
      }
    },
    {
      "cell_type": "markdown",
      "source": [
        "##Install Hugging Face Transformers and Import Dependencies\n",
        "\n",
        "https://huggingface.co/docs/transformers/tasks/summarization"
      ],
      "metadata": {
        "id": "VA5FyTIOmSyD"
      }
    },
    {
      "cell_type": "code",
      "source": [
        "!pip install transformers"
      ],
      "metadata": {
        "id": "6VaWKTfymjoQ"
      },
      "execution_count": null,
      "outputs": []
    },
    {
      "cell_type": "code",
      "source": [
        "#import dependecies\n",
        "from transformers import pipeline"
      ],
      "metadata": {
        "id": "w5by8iL6n3Ze"
      },
      "execution_count": null,
      "outputs": []
    },
    {
      "cell_type": "markdown",
      "source": [
        "##Build a pipeline and pass through text\n",
        "Load the pre-trained 'Summarization' from Pipeline"
      ],
      "metadata": {
        "id": "Aq6uBBitmaXt"
      }
    },
    {
      "cell_type": "code",
      "source": [
        "summarizer = pipeline('summarization')"
      ],
      "metadata": {
        "id": "4EYAYJqhmkQN"
      },
      "execution_count": null,
      "outputs": []
    },
    {
      "cell_type": "code",
      "source": [
        "help(summarizer)"
      ],
      "metadata": {
        "id": "3h89s64frjgp"
      },
      "execution_count": null,
      "outputs": []
    },
    {
      "cell_type": "markdown",
      "source": [
        "##Summarize Text"
      ],
      "metadata": {
        "id": "pqP63GnEmf0T"
      }
    },
    {
      "cell_type": "code",
      "source": [
        "article = \"\"\"\n",
        "Around the world, as regulators look to rein in Big Tech, like the ongoing digital platforms inquiry in Australia, online platforms will face a raft of new rules in the EU.\n",
        "Known as the Digital Services Act, it’s a comprehensive set of regulations for digital services and content in the Eurozone.\n",
        "Like GDPR, the Digital Services Act is expected to lead the way for other countries to provide some rules around how digital services function, \n",
        "with everything from algorithms to online marketplaces, social networks, content-sharing platforms, app stores and online travel and accommodation platforms included.\n",
        "The Digital Services Act sets out clear due diligence obligations for digital platforms and other online intermediaries with measures for cooperation with trusted flaggers and \n",
        "competent authorities on content moderation, and measures to deter rogue traders from reaching consumers.\n",
        "\"\"\""
      ],
      "metadata": {
        "id": "48RNuGBQIHQ0"
      },
      "execution_count": null,
      "outputs": []
    },
    {
      "cell_type": "code",
      "source": [
        ""
      ],
      "metadata": {
        "id": "PV4XVv2r-_fA"
      },
      "execution_count": null,
      "outputs": []
    },
    {
      "cell_type": "markdown",
      "source": [
        "#Summarise PDF using PyMuPDF"
      ],
      "metadata": {
        "id": "c8wd_jI48SHf"
      }
    },
    {
      "cell_type": "code",
      "source": [
        ""
      ],
      "metadata": {
        "id": "6ijHMepx__g6"
      },
      "execution_count": null,
      "outputs": []
    },
    {
      "cell_type": "markdown",
      "source": [
        "#PDf to text using PyPDF2"
      ],
      "metadata": {
        "id": "hnHE8LWgS_SB"
      }
    },
    {
      "cell_type": "code",
      "source": [
        ""
      ],
      "metadata": {
        "id": "H_nkLyQYTBFP"
      },
      "execution_count": null,
      "outputs": []
    },
    {
      "cell_type": "markdown",
      "source": [
        "#Summarise Webpage\n",
        "\n",
        "\n",
        "https://www.geeksforgeeks.org/implementing-web-scraping-python-beautiful-soup/\n",
        "\n"
      ],
      "metadata": {
        "id": "E7c-hpWGMjUc"
      }
    },
    {
      "cell_type": "code",
      "source": [
        ""
      ],
      "metadata": {
        "id": "7EZMZNN3ModC"
      },
      "execution_count": null,
      "outputs": []
    },
    {
      "cell_type": "code",
      "source": [
        ""
      ],
      "metadata": {
        "id": "NqvjK_TmMqkT"
      },
      "execution_count": null,
      "outputs": []
    },
    {
      "cell_type": "markdown",
      "source": [
        "#Newspaper"
      ],
      "metadata": {
        "id": "wk5ILDvVihlU"
      }
    },
    {
      "cell_type": "markdown",
      "source": [
        "Newspaper: Article scraping & curation (Python)\n",
        "https://www.geeksforgeeks.org/newspaper-article-scraping-curation-python/"
      ],
      "metadata": {
        "id": "zQKDlOQtpBTL"
      }
    },
    {
      "cell_type": "code",
      "source": [
        ""
      ],
      "metadata": {
        "id": "Szp7rSm9k2dv"
      },
      "execution_count": null,
      "outputs": []
    },
    {
      "cell_type": "markdown",
      "source": [
        "Scraping websites with Newspaper3k in Python\n",
        "https://www.geeksforgeeks.org/scraping-websites-with-newspaper3k-in-python/\n",
        "\n",
        "\n",
        "\n"
      ],
      "metadata": {
        "id": "079gY4WEnTnF"
      }
    },
    {
      "cell_type": "code",
      "source": [
        ""
      ],
      "metadata": {
        "id": "JbIGJY0Pim0j"
      },
      "execution_count": null,
      "outputs": []
    },
    {
      "cell_type": "code",
      "execution_count": null,
      "metadata": {
        "id": "102d1dec"
      },
      "outputs": [],
      "source": [
        ""
      ]
    }
  ]
}